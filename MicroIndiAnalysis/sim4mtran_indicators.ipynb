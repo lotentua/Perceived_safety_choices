{
 "cells": [
  {
   "cell_type": "code",
   "execution_count": 43,
   "metadata": {},
   "outputs": [],
   "source": [
    "import pandas as pd\n",
    "import numpy as np\n",
    "import matplotlib.pyplot as plt\n",
    "import zipfile\n",
    "import tempfile\n",
    "\n",
    "import seaborn as sb\n",
    "sb.set_theme()"
   ]
  },
  {
   "cell_type": "markdown",
   "metadata": {},
   "source": [
    "#### INPUTS"
   ]
  },
  {
   "cell_type": "code",
   "execution_count": 44,
   "metadata": {},
   "outputs": [],
   "source": [
    "inputFile = 'pkm_modestats.txt'\n",
    "fuelPrice = 1.8 # eur/lt\n",
    "carOccupancy = 1.4\n",
    " \n",
    "# Share - total must be 1\n",
    "shICEV = 1.0\n",
    "shHEV = 0.0\n",
    "shEV = 0.0\n",
    "\n",
    "# Fuel price\n",
    "fpICEV = fuelPrice # filled from above\n",
    "fpHEV = fuelPrice  # filled from above\n",
    "fpEV = 0.2\n",
    "\n",
    "# Efficiency\n",
    "efICEV = 5.5    # lt/100km\n",
    "efHEV = 4.5     # lt/100km\n",
    "km_kwh = 4.8\n",
    "efEV = 1/km_kwh # Calculated from km_kwh"
   ]
  },
  {
   "cell_type": "markdown",
   "metadata": {},
   "source": [
    "### Functions"
   ]
  },
  {
   "cell_type": "code",
   "execution_count": 45,
   "metadata": {},
   "outputs": [],
   "source": [
    "def roundCond(num):\n",
    "    if num > 1:\n",
    "        return round(num, 2)\n",
    "    else:\n",
    "        return round(num, 7)\n",
    "\n",
    "\n",
    "def calc_stats(arr, name):\n",
    "    z = 1.96\n",
    "\n",
    "    iterNum = arr.shape[0] - 1\n",
    "    arr = arr[1:iterNum]\n",
    "    n = arr.shape[0]\n",
    "\n",
    "    min = roundCond(arr.min())\n",
    "    max = roundCond(arr.max())\n",
    "    mean = roundCond(arr.mean())\n",
    "    std = roundCond(arr.std())\n",
    "    q1 = roundCond(np.quantile(arr, 0.25))\n",
    "    median = roundCond(np.median(arr))\n",
    "    q3 = roundCond(np.quantile(arr, 0.75))\n",
    "    cl95_low = roundCond(mean - (z * std) / (iterNum)**(0.5))\n",
    "    cl95_up = roundCond(mean + (z * std) / (iterNum)**(0.5))\n",
    "\n",
    "    return {\"Name\": name, \"Min\": min, \"Max\": max, \"Mean\": mean, \"St. dev.\": std, \n",
    "            \"Q1\": q1, \"Median\": median, \"Q3\": q3, \"Cl 95% Lower\": cl95_low, \"Cl 95% Upper\": cl95_up}\n",
    "\n",
    "\n",
    "def calc_before_after(car_scoot, name):\n",
    "    # car_scoot is a list [car, scoot] with same car/scooter variables\n",
    "    car = car_scoot[0]\n",
    "    scoot = car_scoot[1]\n",
    "\n",
    "    iterNum = car.shape[0]\n",
    "    \n",
    "    before = roundCond(car[0] + scoot[0])\n",
    "    after = roundCond(car[iterNum-1] + scoot[iterNum-1])\n",
    "    diff = roundCond(((after - before) / before) *100)\n",
    "\n",
    "    return { \"Name\": name, \"Before\": before, \"After\": after, \"Diff %\": diff}\n",
    "\n",
    "\n",
    "def boxplot(arrays, colNames, title, yLabel):\n",
    "    # If more than one arrays then concatenate\n",
    "    if len(arrays) > 1:\n",
    "        shape = arrays[0].shape[0]\n",
    "        arrConc = np.concatenate([arrays[0].reshape(shape, 1), \n",
    "                                    arrays[1].reshape(shape, 1)], axis=1)\n",
    "    else:\n",
    "        arrConc = arrays[0]\n",
    "    \n",
    "    df = pd.DataFrame(arrConc, columns=colNames)\n",
    "    ax = df.plot(kind='box',\n",
    "                 figsize=(8,8),\n",
    "                 boxprops=dict(linestyle='-', linewidth=1.5, color=\"red\"),\n",
    "                 medianprops=dict(linestyle='-', linewidth=1.5, color=\"blue\"),\n",
    "                 whiskerprops=dict(linestyle='--', linewidth=1.0, color=\"magenta\"),\n",
    "                 capprops=dict(linestyle='-', linewidth=.75, color=\"green\"),\n",
    "                 flierprops=dict(marker='o', markeredgecolor='g', markersize=3),\n",
    "                 showfliers=True, \n",
    "                 grid=True, \n",
    "                 rot=0)\n",
    "    ax.set_xlabel('Mode')\n",
    "    ax.set_ylabel(yLabel)\n",
    "    ax.set_title(title)\n",
    "\n",
    "    # Save in a temp file\n",
    "    tempFile = tempfile.NamedTemporaryFile(suffix='.png')\n",
    "    plt.savefig(tempFile, dpi=300, facecolor='white')\n",
    "\n",
    "    plt.show()\n",
    "\n",
    "    return tempFile"
   ]
  },
  {
   "cell_type": "markdown",
   "metadata": {},
   "source": [
    "### Read data"
   ]
  },
  {
   "cell_type": "code",
   "execution_count": 46,
   "metadata": {},
   "outputs": [],
   "source": [
    "df = pd.read_csv(inputFile, sep=\"\\t\")\n",
    "\n",
    "# VTM\n",
    "# car = car * carOccupancy, escooter is the same\n",
    "carVKT = df['car'].to_numpy() * carOccupancy\n",
    "escootVKT = df['escoot'].to_numpy()\n",
    "\n",
    "iterNum = carVKT.shape[0]"
   ]
  },
  {
   "cell_type": "markdown",
   "metadata": {},
   "source": [
    "### Indicators"
   ]
  },
  {
   "cell_type": "code",
   "execution_count": 47,
   "metadata": {},
   "outputs": [],
   "source": [
    "# CAR INDICATORS\n",
    "car_co2 = (0.11 * carVKT * (shICEV + shHEV + shEV))\n",
    "car_cost = (efICEV / 100) * fpICEV * (carVKT * shICEV) + (efHEV / 100) * fpHEV * (carVKT * shHEV) + (efEV / 100) * fpEV * (carVKT * shEV)\n",
    "car_safety = (6 * 10**(-9)) * carVKT\n",
    "\n",
    "# ESCOOTER INDICATORS\n",
    "escoot_co2 = ((0.01024 * escootVKT) / 1000)*628\n",
    "escoot_cost = 1 + 0.9375 * escootVKT\n",
    "escoot_safety = (30.6 * 10**(-9)) * escootVKT"
   ]
  },
  {
   "cell_type": "markdown",
   "metadata": {},
   "source": [
    "### Indicators Stats"
   ]
  },
  {
   "cell_type": "code",
   "execution_count": 48,
   "metadata": {},
   "outputs": [
    {
     "data": {
      "text/html": [
       "<div>\n",
       "<style scoped>\n",
       "    .dataframe tbody tr th:only-of-type {\n",
       "        vertical-align: middle;\n",
       "    }\n",
       "\n",
       "    .dataframe tbody tr th {\n",
       "        vertical-align: top;\n",
       "    }\n",
       "\n",
       "    .dataframe thead th {\n",
       "        text-align: right;\n",
       "    }\n",
       "</style>\n",
       "<table border=\"1\" class=\"dataframe\">\n",
       "  <thead>\n",
       "    <tr style=\"text-align: right;\">\n",
       "      <th></th>\n",
       "      <th>Name</th>\n",
       "      <th>Min</th>\n",
       "      <th>Max</th>\n",
       "      <th>Mean</th>\n",
       "      <th>St. dev.</th>\n",
       "      <th>Q1</th>\n",
       "      <th>Median</th>\n",
       "      <th>Q3</th>\n",
       "      <th>Cl 95% Lower</th>\n",
       "      <th>Cl 95% Upper</th>\n",
       "    </tr>\n",
       "  </thead>\n",
       "  <tbody>\n",
       "    <tr>\n",
       "      <th>0</th>\n",
       "      <td>Car CO2</td>\n",
       "      <td>461.540000</td>\n",
       "      <td>996.840000</td>\n",
       "      <td>814.950000</td>\n",
       "      <td>152.200000</td>\n",
       "      <td>699.010000</td>\n",
       "      <td>880.110000</td>\n",
       "      <td>939.780000</td>\n",
       "      <td>785.120000</td>\n",
       "      <td>844.780000</td>\n",
       "    </tr>\n",
       "    <tr>\n",
       "      <th>1</th>\n",
       "      <td>E-Scooter CO2</td>\n",
       "      <td>13.340000</td>\n",
       "      <td>27.700000</td>\n",
       "      <td>17.300000</td>\n",
       "      <td>3.220000</td>\n",
       "      <td>15.460000</td>\n",
       "      <td>16.350000</td>\n",
       "      <td>17.740000</td>\n",
       "      <td>16.670000</td>\n",
       "      <td>17.930000</td>\n",
       "    </tr>\n",
       "    <tr>\n",
       "      <th>2</th>\n",
       "      <td>Car cost</td>\n",
       "      <td>415.380000</td>\n",
       "      <td>897.160000</td>\n",
       "      <td>733.450000</td>\n",
       "      <td>136.980000</td>\n",
       "      <td>629.110000</td>\n",
       "      <td>792.100000</td>\n",
       "      <td>845.810000</td>\n",
       "      <td>706.600000</td>\n",
       "      <td>760.300000</td>\n",
       "    </tr>\n",
       "    <tr>\n",
       "      <th>3</th>\n",
       "      <td>E-scooter cost</td>\n",
       "      <td>1945.380000</td>\n",
       "      <td>4039.750000</td>\n",
       "      <td>2523.090000</td>\n",
       "      <td>469.390000</td>\n",
       "      <td>2254.750000</td>\n",
       "      <td>2385.060000</td>\n",
       "      <td>2587.560000</td>\n",
       "      <td>2431.090000</td>\n",
       "      <td>2615.090000</td>\n",
       "    </tr>\n",
       "    <tr>\n",
       "      <th>4</th>\n",
       "      <td>Car safety</td>\n",
       "      <td>0.000025</td>\n",
       "      <td>0.000054</td>\n",
       "      <td>0.000044</td>\n",
       "      <td>0.000008</td>\n",
       "      <td>0.000038</td>\n",
       "      <td>0.000048</td>\n",
       "      <td>0.000051</td>\n",
       "      <td>0.000043</td>\n",
       "      <td>0.000046</td>\n",
       "    </tr>\n",
       "    <tr>\n",
       "      <th>5</th>\n",
       "      <td>E-scooter satefy</td>\n",
       "      <td>0.000063</td>\n",
       "      <td>0.000132</td>\n",
       "      <td>0.000082</td>\n",
       "      <td>0.000015</td>\n",
       "      <td>0.000074</td>\n",
       "      <td>0.000078</td>\n",
       "      <td>0.000084</td>\n",
       "      <td>0.000079</td>\n",
       "      <td>0.000085</td>\n",
       "    </tr>\n",
       "  </tbody>\n",
       "</table>\n",
       "</div>"
      ],
      "text/plain": [
       "               Name          Min          Max         Mean    St. dev.  \\\n",
       "0           Car CO2   461.540000   996.840000   814.950000  152.200000   \n",
       "1     E-Scooter CO2    13.340000    27.700000    17.300000    3.220000   \n",
       "2          Car cost   415.380000   897.160000   733.450000  136.980000   \n",
       "3    E-scooter cost  1945.380000  4039.750000  2523.090000  469.390000   \n",
       "4        Car safety     0.000025     0.000054     0.000044    0.000008   \n",
       "5  E-scooter satefy     0.000063     0.000132     0.000082    0.000015   \n",
       "\n",
       "            Q1       Median           Q3  Cl 95% Lower  Cl 95% Upper  \n",
       "0   699.010000   880.110000   939.780000    785.120000    844.780000  \n",
       "1    15.460000    16.350000    17.740000     16.670000     17.930000  \n",
       "2   629.110000   792.100000   845.810000    706.600000    760.300000  \n",
       "3  2254.750000  2385.060000  2587.560000   2431.090000   2615.090000  \n",
       "4     0.000038     0.000048     0.000051      0.000043      0.000046  \n",
       "5     0.000074     0.000078     0.000084      0.000079      0.000085  "
      ]
     },
     "execution_count": 48,
     "metadata": {},
     "output_type": "execute_result"
    }
   ],
   "source": [
    "# Create a dataframe\n",
    "\n",
    "tables = {\n",
    "    \"Car CO2\": car_co2,\n",
    "    \"E-Scooter CO2\": escoot_co2,\n",
    "    \"Car cost\": car_cost,\n",
    "    \"E-scooter cost\": escoot_cost,\n",
    "    \"Car safety\": car_safety,\n",
    "    \"E-scooter satefy\": escoot_safety \n",
    "}\n",
    "\n",
    "colNames = list(tables.keys())\n",
    "\n",
    "dataStats = []\n",
    "for key, val in tables.items():\n",
    "    dataStats.append(calc_stats(val, key))\n",
    "\n",
    "df_stats = pd.DataFrame(dataStats)\n",
    "df_stats"
   ]
  },
  {
   "cell_type": "markdown",
   "metadata": {},
   "source": [
    "### Indicators box plots"
   ]
  },
  {
   "cell_type": "code",
   "execution_count": 49,
   "metadata": {},
   "outputs": [
    {
     "data": {
      "image/png": "[encoded data removed]",
      "text/plain": [
       "<Figure size 576x576 with 1 Axes>"
      ]
     },
     "metadata": {},
     "output_type": "display_data"
    }
   ],
   "source": [
    "# CAR - CO2\n",
    "temp3 = boxplot([car_co2], ['Car'], 'CO2 Emissions Cars', 'CO2 (kg)')"
   ]
  },
  {
   "cell_type": "code",
   "execution_count": 50,
   "metadata": {},
   "outputs": [
    {
     "data": {
      "image/png": "[encoded data removed]",
      "text/plain": [
       "<Figure size 576x576 with 1 Axes>"
      ]
     },
     "metadata": {},
     "output_type": "display_data"
    }
   ],
   "source": [
    "# ESCOOTER - CO2\n",
    "temp4 = boxplot([escoot_co2], ['E-scooter'], 'CO2 Emissions E-scooters', 'CO2 (kg)')"
   ]
  },
  {
   "cell_type": "code",
   "execution_count": 51,
   "metadata": {},
   "outputs": [
    {
     "data": {
      "image/png": "[encoded data removed]",
      "text/plain": [
       "<Figure size 576x576 with 1 Axes>"
      ]
     },
     "metadata": {},
     "output_type": "display_data"
    }
   ],
   "source": [
    "# COST BOX PLOT\n",
    "temp5 = boxplot([car_cost, escoot_cost], ['Car', 'E-scooter'], 'Cost of use per mode', 'Cost of use (€)')"
   ]
  },
  {
   "cell_type": "code",
   "execution_count": 52,
   "metadata": {},
   "outputs": [
    {
     "data": {
      "image/png": "[encoded data removed]",
      "text/plain": [
       "<Figure size 576x576 with 1 Axes>"
      ]
     },
     "metadata": {},
     "output_type": "display_data"
    }
   ],
   "source": [
    "# SAFETY BOX PLOT\n",
    "temp6 = boxplot([car_safety, escoot_safety], ['Car', 'E-scooter'], 'Safety per mode', 'Safety (fatalities)')"
   ]
  },
  {
   "cell_type": "markdown",
   "metadata": {},
   "source": [
    "### Calculate Changes"
   ]
  },
  {
   "cell_type": "code",
   "execution_count": 53,
   "metadata": {},
   "outputs": [],
   "source": [
    "# CO_2 Changes\n",
    "# Initialize\n",
    "car_co2_change = np.zeros(iterNum)\n",
    "car_co2_change_per = np.zeros(iterNum-1)\n",
    "escoot_co2_change = np.zeros(iterNum)\n",
    "escoot_co2_change_per = np.zeros(iterNum-1)\n",
    "\n",
    "\n",
    "for i in range(iterNum):\n",
    "    car_co2_change[i] = car_co2[i] - car_co2[0]\n",
    "    escoot_co2_change[i] = escoot_co2[i] - escoot_co2[0]\n",
    "\n",
    "total_co2_change = car_co2 + escoot_co2\n",
    "\n",
    "# Percentage\n",
    "for i in range(1, iterNum):\n",
    "    car_co2_change_per[i-1] = car_co2_change[i] / car_co2[0]\n",
    "    escoot_co2_change_per[i-1] = escoot_co2_change[i] / escoot_co2[0]"
   ]
  },
  {
   "cell_type": "markdown",
   "metadata": {},
   "source": [
    "### Changes Plot"
   ]
  },
  {
   "cell_type": "code",
   "execution_count": 54,
   "metadata": {},
   "outputs": [
    {
     "data": {
      "text/html": [
       "<div>\n",
       "<style scoped>\n",
       "    .dataframe tbody tr th:only-of-type {\n",
       "        vertical-align: middle;\n",
       "    }\n",
       "\n",
       "    .dataframe tbody tr th {\n",
       "        vertical-align: top;\n",
       "    }\n",
       "\n",
       "    .dataframe thead th {\n",
       "        text-align: right;\n",
       "    }\n",
       "</style>\n",
       "<table border=\"1\" class=\"dataframe\">\n",
       "  <thead>\n",
       "    <tr style=\"text-align: right;\">\n",
       "      <th></th>\n",
       "      <th>Name</th>\n",
       "      <th>Before</th>\n",
       "      <th>After</th>\n",
       "      <th>Diff %</th>\n",
       "    </tr>\n",
       "  </thead>\n",
       "  <tbody>\n",
       "    <tr>\n",
       "      <th>0</th>\n",
       "      <td>Vehicle/km</td>\n",
       "      <td>14621.800000</td>\n",
       "      <td>11009.200000</td>\n",
       "      <td>-24.706944</td>\n",
       "    </tr>\n",
       "    <tr>\n",
       "      <th>1</th>\n",
       "      <td>CO2 (kg)</td>\n",
       "      <td>1607.360000</td>\n",
       "      <td>965.140000</td>\n",
       "      <td>-39.954957</td>\n",
       "    </tr>\n",
       "    <tr>\n",
       "      <th>2</th>\n",
       "      <td>Cost of use (€)</td>\n",
       "      <td>1456.940000</td>\n",
       "      <td>3081.510000</td>\n",
       "      <td>111.510000</td>\n",
       "    </tr>\n",
       "    <tr>\n",
       "      <th>3</th>\n",
       "      <td>Safety (fatalities)</td>\n",
       "      <td>0.000088</td>\n",
       "      <td>0.000124</td>\n",
       "      <td>41.480000</td>\n",
       "    </tr>\n",
       "  </tbody>\n",
       "</table>\n",
       "</div>"
      ],
      "text/plain": [
       "                  Name        Before         After      Diff %\n",
       "0           Vehicle/km  14621.800000  11009.200000  -24.706944\n",
       "1             CO2 (kg)   1607.360000    965.140000  -39.954957\n",
       "2      Cost of use (€)   1456.940000   3081.510000  111.510000\n",
       "3  Safety (fatalities)      0.000088      0.000124   41.480000"
      ]
     },
     "execution_count": 54,
     "metadata": {},
     "output_type": "execute_result"
    }
   ],
   "source": [
    "car_scoots = [\n",
    "    [carVKT, escootVKT],\n",
    "    [car_co2, escoot_co2],\n",
    "    [car_cost, escoot_cost],\n",
    "    [car_safety, escoot_safety]\n",
    "]\n",
    "\n",
    "names = ['Vehicle/km', 'CO2 (kg)', 'Cost of use (€)', 'Safety (fatalities)']\n",
    "dataBA = []\n",
    "for i, car_scoot in enumerate(car_scoots):\n",
    "    dataBA.append(calc_before_after(car_scoot=car_scoot, name=names[i]))\n",
    "\n",
    "df_ba = pd.DataFrame(dataBA)\n",
    "df_ba"
   ]
  },
  {
   "cell_type": "code",
   "execution_count": 55,
   "metadata": {},
   "outputs": [
    {
     "data": {
      "image/png": "[encoded data removed]",
      "text/plain": [
       "<Figure size 576x576 with 1 Axes>"
      ]
     },
     "metadata": {},
     "output_type": "display_data"
    }
   ],
   "source": [
    "# Changes plot\n",
    "ax = df_ba.plot.bar(x='Name', y='Diff %', rot=45, legend=False, figsize=(8,8), title='Indicators', xlabel='')\n",
    "fig = ax.get_figure()\n",
    "\n",
    "temp7 = tempfile.NamedTemporaryFile(suffix='.xlsx')\n",
    "fig.savefig(temp7, dpi=300)"
   ]
  },
  {
   "attachments": {},
   "cell_type": "markdown",
   "metadata": {},
   "source": [
    "### Export"
   ]
  },
  {
   "cell_type": "code",
   "execution_count": 56,
   "metadata": {},
   "outputs": [],
   "source": [
    "# Temporary file\n",
    "temp1 = tempfile.NamedTemporaryFile(suffix='.xlsx')\n",
    "temp2 = tempfile.NamedTemporaryFile(suffix='.xlsx')\n",
    "\n",
    "# Dataframe write to temp file\n",
    "df_stats.to_excel(temp1, index=False)\n",
    "df_ba.to_excel(temp2, index=False)\n",
    "\n",
    "# Create zip\n",
    "zipFile = zipfile.ZipFile(\"sim4mtran_indicators.zip\", 'w')\n",
    "\n",
    "# List with all temps\n",
    "temps = [temp1, temp2, temp3, temp4, temp5, temp6, temp7]\n",
    "fileNames = ['1 - Indicators Stats.xlsx', '2 - Changes.xlsx', '3 - CO2 Emissions Cars.png', '4 - CO2 Emissions E-scooters.png', '5 - Cost of use per mode.png', '6 - Safety per mode.png', '7 - Changes.png']\n",
    "\n",
    "# Write temps in zip\n",
    "for z, temp in enumerate(temps):\n",
    "    zipFile.write(temp.name, fileNames[z], zipfile.ZIP_DEFLATED)\n",
    "\n",
    "# Close zip\n",
    "zipFile.close()"
   ]
  }
 ],
 "metadata": {
  "kernelspec": {
   "display_name": "Python 3 (ipykernel)",
   "language": "python",
   "name": "python3"
  },
  "language_info": {
   "codemirror_mode": {
    "name": "ipython",
    "version": 3
   },
   "file_extension": ".py",
   "mimetype": "text/x-python",
   "name": "python",
   "nbconvert_exporter": "python",
   "pygments_lexer": "ipython3",
   "version": "3.10.6"
  }
 },
 "nbformat": 4,
 "nbformat_minor": 2
}
